{
  "nbformat": 4,
  "nbformat_minor": 0,
  "metadata": {
    "colab": {
      "name": "First-Colab.ipynb",
      "provenance": [],
      "collapsed_sections": [],
      "toc_visible": true
    },
    "kernelspec": {
      "name": "python3",
      "display_name": "Python 3"
    },
    "accelerator": "GPU"
  },
  "cells": [
    {
      "cell_type": "markdown",
      "metadata": {
        "id": "zHGSXqM0UwZc",
        "colab_type": "text"
      },
      "source": [
        "# My First Colab Notebook\n"
      ]
    },
    {
      "cell_type": "markdown",
      "metadata": {
        "id": "VM4My8SuViJQ",
        "colab_type": "text"
      },
      "source": [
        "# Import Libraries"
      ]
    },
    {
      "cell_type": "code",
      "metadata": {
        "id": "mU5rDBLDUjLM",
        "colab_type": "code",
        "outputId": "f79f1a48-15bd-455c-daed-dfc8ebeae380",
        "colab": {
          "base_uri": "https://localhost:8080/",
          "height": 51
        }
      },
      "source": [
        "%tensorflow_version 1.x\n",
        "from __future__ import print_function\n",
        "import keras\n",
        "from keras.datasets import mnist\n",
        "from keras.models import Sequential\n",
        "from keras.layers import Dense, Dropout, Flatten\n",
        "from keras.layers import Conv2D, MaxPooling2D\n",
        "from keras.layers.normalization import BatchNormalization\n",
        "from keras import backend as K\n",
        "from keras.preprocessing.image import ImageDataGenerator\n",
        "from matplotlib import pyplot as plt"
      ],
      "execution_count": 0,
      "outputs": [
        {
          "output_type": "stream",
          "text": [
            "TensorFlow 1.x selected.\n"
          ],
          "name": "stdout"
        },
        {
          "output_type": "stream",
          "text": [
            "Using TensorFlow backend.\n"
          ],
          "name": "stderr"
        }
      ]
    },
    {
      "cell_type": "markdown",
      "metadata": {
        "id": "QizsJrvgQkpx",
        "colab_type": "text"
      },
      "source": [
        "#Stuff"
      ]
    },
    {
      "cell_type": "code",
      "metadata": {
        "id": "8qABdNAQQTYy",
        "colab_type": "code",
        "outputId": "af4c43a8-72ca-4f68-82d4-51d6471971b0",
        "colab": {
          "base_uri": "https://localhost:8080/",
          "height": 1000
        }
      },
      "source": [
        "(x_train, y_train), (x_test, y_test) = mnist.load_data()\n",
        "batch_size = 64\n",
        "num_classes = 10\n",
        "epochs = 50\n",
        "# input image dimensions\n",
        "img_rows, img_cols = 28, 28\n",
        "\n",
        "if K.image_data_format() == 'channels_first':\n",
        "    x_train = x_train.reshape(x_train.shape[0], 1, img_rows, img_cols)\n",
        "    x_test = x_test.reshape(x_test.shape[0], 1, img_rows, img_cols)\n",
        "    input_shape = (1, img_rows, img_cols)\n",
        "else:\n",
        "    x_train = x_train.reshape(x_train.shape[0], img_rows, img_cols, 1)\n",
        "    x_test = x_test.reshape(x_test.shape[0], img_rows, img_cols, 1)\n",
        "    input_shape = (img_rows, img_cols, 1)\n",
        "\n",
        "x_train = x_train.astype('float32')\n",
        "x_test = x_test.astype('float32')\n",
        "x_train /= 255\n",
        "x_test /= 255\n",
        "print('x_train shape:', x_train.shape)\n",
        "print(x_train.shape[0], 'train samples')\n",
        "print(x_test.shape[0], 'test samples')\n",
        "\n",
        "# convert class vectors to binary class matrices\n",
        "y_train = keras.utils.to_categorical(y_train, num_classes)\n",
        "y_test = keras.utils.to_categorical(y_test, num_classes)\n",
        "\n",
        "model = Sequential()\n",
        "\n",
        "model.add(Conv2D(32, kernel_size = 3, activation='relu', input_shape = (28, 28, 1)))\n",
        "model.add(BatchNormalization())\n",
        "model.add(Conv2D(32, kernel_size = 3, activation='relu'))\n",
        "model.add(BatchNormalization())\n",
        "model.add(Conv2D(32, kernel_size = 5, strides=2, padding='same', activation='relu'))\n",
        "model.add(BatchNormalization())\n",
        "model.add(Dropout(0.4))\n",
        "\n",
        "model.add(Conv2D(64, kernel_size = 3, activation='relu'))\n",
        "model.add(BatchNormalization())\n",
        "model.add(Conv2D(64, kernel_size = 3, activation='relu'))\n",
        "model.add(BatchNormalization())\n",
        "model.add(Conv2D(64, kernel_size = 5, strides=2, padding='same', activation='relu'))\n",
        "model.add(BatchNormalization())\n",
        "model.add(Dropout(0.4))\n",
        "\n",
        "model.add(Conv2D(128, kernel_size = 4, activation='relu'))\n",
        "model.add(BatchNormalization())\n",
        "model.add(Flatten())\n",
        "model.add(Dropout(0.4))\n",
        "model.add(Dense(10, activation='softmax'))\n",
        "\n",
        "\n",
        "\n",
        "model.compile(loss='categorical_crossentropy', optimizer='adam', metrics=['accuracy'])\n",
        "\n",
        "datagen = ImageDataGenerator(\n",
        "        featurewise_center=False,  # set input mean to 0 over the dataset\n",
        "        samplewise_center=False,  # set each sample mean to 0\n",
        "        featurewise_std_normalization=False,  # divide inputs by std of the dataset\n",
        "        samplewise_std_normalization=False,  # divide each input by its std\n",
        "        zca_whitening=False,  # apply ZCA whitening\n",
        "        rotation_range=10,  # randomly rotate images in the range (degrees, 0 to 180)\n",
        "        zoom_range = 0.1, # Randomly zoom image \n",
        "        width_shift_range=0.1,  # randomly shift images horizontally (fraction of total width)\n",
        "        height_shift_range=0.1,  # randomly shift images vertically (fraction of total height)\n",
        "        horizontal_flip=False,  # randomly flip images\n",
        "        vertical_flip=False)  # randomly flip images\n",
        "\n",
        "\n",
        "#datagen.fit(X_train)\n",
        "train_gen = datagen.flow(x_train, y_train, batch_size=batch_size)\n",
        "test_gen = datagen.flow(x_test, y_test, batch_size=batch_size)\n",
        "\n",
        "history = model.fit_generator(train_gen, \n",
        "                              epochs = epochs, \n",
        "                              steps_per_epoch = x_train.shape[0] // batch_size,\n",
        "                              validation_data = test_gen,\n",
        "                              validation_steps = x_test.shape[0] // batch_size)"
      ],
      "execution_count": 0,
      "outputs": [
        {
          "output_type": "stream",
          "text": [
            "x_train shape: (60000, 28, 28, 1)\n",
            "60000 train samples\n",
            "10000 test samples\n",
            "WARNING:tensorflow:From /usr/local/lib/python3.6/dist-packages/keras/backend/tensorflow_backend.py:66: The name tf.get_default_graph is deprecated. Please use tf.compat.v1.get_default_graph instead.\n",
            "\n",
            "WARNING:tensorflow:From /usr/local/lib/python3.6/dist-packages/keras/backend/tensorflow_backend.py:541: The name tf.placeholder is deprecated. Please use tf.compat.v1.placeholder instead.\n",
            "\n",
            "WARNING:tensorflow:From /usr/local/lib/python3.6/dist-packages/keras/backend/tensorflow_backend.py:4432: The name tf.random_uniform is deprecated. Please use tf.random.uniform instead.\n",
            "\n",
            "WARNING:tensorflow:From /usr/local/lib/python3.6/dist-packages/keras/backend/tensorflow_backend.py:190: The name tf.get_default_session is deprecated. Please use tf.compat.v1.get_default_session instead.\n",
            "\n",
            "WARNING:tensorflow:From /usr/local/lib/python3.6/dist-packages/keras/backend/tensorflow_backend.py:197: The name tf.ConfigProto is deprecated. Please use tf.compat.v1.ConfigProto instead.\n",
            "\n",
            "WARNING:tensorflow:From /usr/local/lib/python3.6/dist-packages/keras/backend/tensorflow_backend.py:203: The name tf.Session is deprecated. Please use tf.compat.v1.Session instead.\n",
            "\n",
            "WARNING:tensorflow:From /usr/local/lib/python3.6/dist-packages/keras/backend/tensorflow_backend.py:207: The name tf.global_variables is deprecated. Please use tf.compat.v1.global_variables instead.\n",
            "\n",
            "WARNING:tensorflow:From /usr/local/lib/python3.6/dist-packages/keras/backend/tensorflow_backend.py:216: The name tf.is_variable_initialized is deprecated. Please use tf.compat.v1.is_variable_initialized instead.\n",
            "\n",
            "WARNING:tensorflow:From /usr/local/lib/python3.6/dist-packages/keras/backend/tensorflow_backend.py:223: The name tf.variables_initializer is deprecated. Please use tf.compat.v1.variables_initializer instead.\n",
            "\n",
            "WARNING:tensorflow:From /usr/local/lib/python3.6/dist-packages/keras/backend/tensorflow_backend.py:2041: The name tf.nn.fused_batch_norm is deprecated. Please use tf.compat.v1.nn.fused_batch_norm instead.\n",
            "\n",
            "WARNING:tensorflow:From /usr/local/lib/python3.6/dist-packages/keras/backend/tensorflow_backend.py:148: The name tf.placeholder_with_default is deprecated. Please use tf.compat.v1.placeholder_with_default instead.\n",
            "\n",
            "WARNING:tensorflow:From /usr/local/lib/python3.6/dist-packages/keras/backend/tensorflow_backend.py:3733: calling dropout (from tensorflow.python.ops.nn_ops) with keep_prob is deprecated and will be removed in a future version.\n",
            "Instructions for updating:\n",
            "Please use `rate` instead of `keep_prob`. Rate should be set to `rate = 1 - keep_prob`.\n",
            "WARNING:tensorflow:From /usr/local/lib/python3.6/dist-packages/keras/optimizers.py:793: The name tf.train.Optimizer is deprecated. Please use tf.compat.v1.train.Optimizer instead.\n",
            "\n",
            "WARNING:tensorflow:From /usr/local/lib/python3.6/dist-packages/keras/backend/tensorflow_backend.py:3576: The name tf.log is deprecated. Please use tf.math.log instead.\n",
            "\n",
            "WARNING:tensorflow:From /tensorflow-1.15.2/python3.6/tensorflow_core/python/ops/math_grad.py:1424: where (from tensorflow.python.ops.array_ops) is deprecated and will be removed in a future version.\n",
            "Instructions for updating:\n",
            "Use tf.where in 2.0, which has the same broadcast rule as np.where\n",
            "WARNING:tensorflow:From /usr/local/lib/python3.6/dist-packages/keras/backend/tensorflow_backend.py:1033: The name tf.assign_add is deprecated. Please use tf.compat.v1.assign_add instead.\n",
            "\n",
            "WARNING:tensorflow:From /usr/local/lib/python3.6/dist-packages/keras/backend/tensorflow_backend.py:1020: The name tf.assign is deprecated. Please use tf.compat.v1.assign instead.\n",
            "\n",
            "Epoch 1/50\n",
            "937/937 [==============================] - 33s 35ms/step - loss: 0.3652 - acc: 0.8886 - val_loss: 0.0922 - val_acc: 0.9722\n",
            "Epoch 2/50\n",
            "937/937 [==============================] - 25s 27ms/step - loss: 0.1099 - acc: 0.9673 - val_loss: 0.0630 - val_acc: 0.9807\n",
            "Epoch 3/50\n",
            "937/937 [==============================] - 25s 26ms/step - loss: 0.0827 - acc: 0.9755 - val_loss: 0.0472 - val_acc: 0.9833\n",
            "Epoch 4/50\n",
            "937/937 [==============================] - 25s 26ms/step - loss: 0.0685 - acc: 0.9786 - val_loss: 0.0354 - val_acc: 0.9897\n",
            "Epoch 5/50\n",
            "937/937 [==============================] - 25s 26ms/step - loss: 0.0650 - acc: 0.9799 - val_loss: 0.0379 - val_acc: 0.9884\n",
            "Epoch 6/50\n",
            "937/937 [==============================] - 25s 27ms/step - loss: 0.0597 - acc: 0.9822 - val_loss: 0.0316 - val_acc: 0.9903\n",
            "Epoch 7/50\n",
            "937/937 [==============================] - 24s 26ms/step - loss: 0.0546 - acc: 0.9839 - val_loss: 0.0313 - val_acc: 0.9905\n",
            "Epoch 8/50\n",
            "937/937 [==============================] - 25s 26ms/step - loss: 0.0478 - acc: 0.9860 - val_loss: 0.0257 - val_acc: 0.9916\n",
            "Epoch 9/50\n",
            "937/937 [==============================] - 25s 26ms/step - loss: 0.0477 - acc: 0.9855 - val_loss: 0.0258 - val_acc: 0.9920\n",
            "Epoch 10/50\n",
            "937/937 [==============================] - 24s 26ms/step - loss: 0.0457 - acc: 0.9862 - val_loss: 0.0301 - val_acc: 0.9914\n",
            "Epoch 11/50\n",
            "937/937 [==============================] - 25s 26ms/step - loss: 0.0400 - acc: 0.9883 - val_loss: 0.0284 - val_acc: 0.9910\n",
            "Epoch 12/50\n",
            "937/937 [==============================] - 25s 27ms/step - loss: 0.0411 - acc: 0.9880 - val_loss: 0.0265 - val_acc: 0.9916\n",
            "Epoch 13/50\n",
            "937/937 [==============================] - 24s 26ms/step - loss: 0.0358 - acc: 0.9893 - val_loss: 0.0201 - val_acc: 0.9941\n",
            "Epoch 14/50\n",
            "937/937 [==============================] - 24s 26ms/step - loss: 0.0360 - acc: 0.9896 - val_loss: 0.0161 - val_acc: 0.9948\n",
            "Epoch 15/50\n",
            "937/937 [==============================] - 25s 27ms/step - loss: 0.0346 - acc: 0.9897 - val_loss: 0.0226 - val_acc: 0.9934\n",
            "Epoch 16/50\n",
            "937/937 [==============================] - 25s 26ms/step - loss: 0.0351 - acc: 0.9895 - val_loss: 0.0163 - val_acc: 0.9951\n",
            "Epoch 17/50\n",
            "937/937 [==============================] - 25s 26ms/step - loss: 0.0295 - acc: 0.9915 - val_loss: 0.0202 - val_acc: 0.9942\n",
            "Epoch 18/50\n",
            "937/937 [==============================] - 25s 26ms/step - loss: 0.0314 - acc: 0.9913 - val_loss: 0.0181 - val_acc: 0.9943\n",
            "Epoch 19/50\n",
            "937/937 [==============================] - 25s 26ms/step - loss: 0.0299 - acc: 0.9911 - val_loss: 0.0265 - val_acc: 0.9911\n",
            "Epoch 20/50\n",
            "937/937 [==============================] - 25s 26ms/step - loss: 0.0296 - acc: 0.9915 - val_loss: 0.0163 - val_acc: 0.9953\n",
            "Epoch 21/50\n",
            "937/937 [==============================] - 25s 27ms/step - loss: 0.0268 - acc: 0.9918 - val_loss: 0.0226 - val_acc: 0.9940\n",
            "Epoch 22/50\n",
            "937/937 [==============================] - 25s 26ms/step - loss: 0.0284 - acc: 0.9917 - val_loss: 0.0184 - val_acc: 0.9940\n",
            "Epoch 23/50\n",
            "937/937 [==============================] - 25s 26ms/step - loss: 0.0256 - acc: 0.9922 - val_loss: 0.0172 - val_acc: 0.9947\n",
            "Epoch 24/50\n",
            "937/937 [==============================] - 25s 26ms/step - loss: 0.0267 - acc: 0.9919 - val_loss: 0.0189 - val_acc: 0.9939\n",
            "Epoch 25/50\n",
            "937/937 [==============================] - 25s 27ms/step - loss: 0.0262 - acc: 0.9922 - val_loss: 0.0276 - val_acc: 0.9914\n",
            "Epoch 26/50\n",
            "937/937 [==============================] - 25s 26ms/step - loss: 0.0245 - acc: 0.9927 - val_loss: 0.0181 - val_acc: 0.9947\n",
            "Epoch 27/50\n",
            "937/937 [==============================] - 25s 27ms/step - loss: 0.0237 - acc: 0.9928 - val_loss: 0.0160 - val_acc: 0.9955\n",
            "Epoch 28/50\n",
            "937/937 [==============================] - 25s 27ms/step - loss: 0.0235 - acc: 0.9930 - val_loss: 0.0221 - val_acc: 0.9938\n",
            "Epoch 29/50\n",
            "937/937 [==============================] - 25s 27ms/step - loss: 0.0240 - acc: 0.9929 - val_loss: 0.0169 - val_acc: 0.9951\n",
            "Epoch 30/50\n",
            "937/937 [==============================] - 25s 26ms/step - loss: 0.0221 - acc: 0.9936 - val_loss: 0.0150 - val_acc: 0.9953\n",
            "Epoch 31/50\n",
            "937/937 [==============================] - 25s 26ms/step - loss: 0.0220 - acc: 0.9932 - val_loss: 0.0187 - val_acc: 0.9942\n",
            "Epoch 32/50\n",
            "937/937 [==============================] - 25s 26ms/step - loss: 0.0201 - acc: 0.9942 - val_loss: 0.0165 - val_acc: 0.9953\n",
            "Epoch 33/50\n",
            "937/937 [==============================] - 25s 26ms/step - loss: 0.0219 - acc: 0.9933 - val_loss: 0.0183 - val_acc: 0.9941\n",
            "Epoch 34/50\n",
            "937/937 [==============================] - 25s 26ms/step - loss: 0.0188 - acc: 0.9941 - val_loss: 0.0166 - val_acc: 0.9957\n",
            "Epoch 35/50\n",
            "937/937 [==============================] - 25s 27ms/step - loss: 0.0209 - acc: 0.9937 - val_loss: 0.0166 - val_acc: 0.9953\n",
            "Epoch 36/50\n",
            "937/937 [==============================] - 25s 26ms/step - loss: 0.0207 - acc: 0.9937 - val_loss: 0.0137 - val_acc: 0.9958\n",
            "Epoch 37/50\n",
            "937/937 [==============================] - 25s 26ms/step - loss: 0.0212 - acc: 0.9937 - val_loss: 0.0168 - val_acc: 0.9944\n",
            "Epoch 38/50\n",
            "937/937 [==============================] - 25s 26ms/step - loss: 0.0183 - acc: 0.9946 - val_loss: 0.0157 - val_acc: 0.9948\n",
            "Epoch 39/50\n",
            "937/937 [==============================] - 25s 26ms/step - loss: 0.0193 - acc: 0.9941 - val_loss: 0.0163 - val_acc: 0.9943\n",
            "Epoch 40/50\n",
            "937/937 [==============================] - 25s 26ms/step - loss: 0.0194 - acc: 0.9937 - val_loss: 0.0164 - val_acc: 0.9955\n",
            "Epoch 41/50\n",
            "937/937 [==============================] - 25s 27ms/step - loss: 0.0183 - acc: 0.9944 - val_loss: 0.0177 - val_acc: 0.9946\n",
            "Epoch 42/50\n",
            "937/937 [==============================] - 25s 27ms/step - loss: 0.0191 - acc: 0.9942 - val_loss: 0.0163 - val_acc: 0.9949\n",
            "Epoch 43/50\n",
            "937/937 [==============================] - 24s 26ms/step - loss: 0.0185 - acc: 0.9945 - val_loss: 0.0151 - val_acc: 0.9957\n",
            "Epoch 44/50\n",
            "937/937 [==============================] - 25s 27ms/step - loss: 0.0190 - acc: 0.9942 - val_loss: 0.0152 - val_acc: 0.9951\n",
            "Epoch 45/50\n",
            "937/937 [==============================] - 25s 27ms/step - loss: 0.0182 - acc: 0.9947 - val_loss: 0.0137 - val_acc: 0.9956\n",
            "Epoch 46/50\n",
            "937/937 [==============================] - 25s 26ms/step - loss: 0.0179 - acc: 0.9948 - val_loss: 0.0142 - val_acc: 0.9960\n",
            "Epoch 47/50\n",
            "937/937 [==============================] - 25s 26ms/step - loss: 0.0157 - acc: 0.9952 - val_loss: 0.0173 - val_acc: 0.9950\n",
            "Epoch 48/50\n",
            "937/937 [==============================] - 25s 26ms/step - loss: 0.0175 - acc: 0.9948 - val_loss: 0.0131 - val_acc: 0.9964\n",
            "Epoch 49/50\n",
            "937/937 [==============================] - 24s 26ms/step - loss: 0.0161 - acc: 0.9950 - val_loss: 0.0159 - val_acc: 0.9955\n",
            "Epoch 50/50\n",
            "937/937 [==============================] - 25s 26ms/step - loss: 0.0171 - acc: 0.9946 - val_loss: 0.0164 - val_acc: 0.9958\n"
          ],
          "name": "stdout"
        }
      ]
    },
    {
      "cell_type": "code",
      "metadata": {
        "id": "T-gyOTn8cAAM",
        "colab_type": "code",
        "colab": {}
      },
      "source": [
        "model.save('mnist_keras.h5')"
      ],
      "execution_count": 0,
      "outputs": []
    },
    {
      "cell_type": "code",
      "metadata": {
        "id": "Hw2yM37yhqfr",
        "colab_type": "code",
        "outputId": "ed069e5e-0760-4e68-a415-a0594629bc44",
        "colab": {
          "base_uri": "https://localhost:8080/",
          "height": 573
        }
      },
      "source": [
        "from keras.utils.vis_utils import plot_model\n",
        "# plot_model(model, to_file='model_plot.png', show_shapes=True, show_layer_names=True)\n",
        "# # Plot the loss and accuracy curves for training and validation \n",
        "# fig, ax = plt.subplots(2,1, figsize=(18, 10))\n",
        "# ax[0].plot(history.history['loss'], color='b', label=\"Training loss\")\n",
        "# ax[0].plot(history.history['val_loss'], color='r', label=\"validation loss\",axes =ax[0])\n",
        "# legend = ax[0].legend(loc='best', shadow=True)\n",
        "\n",
        "# ax[1].plot(history.history['acc'], color='b', label=\"Training accuracy\")\n",
        "# ax[1].plot(history.history['val_acc'], color='r',label=\"Validation accuracy\")\n",
        "# legend = ax[1].legend(loc='best', shadow=True)\n",
        "# Plot training & validation accuracy values\n",
        "plt.plot(history.history['acc'])\n",
        "plt.plot(history.history['val_acc'])\n",
        "plt.title('Model accuracy')\n",
        "plt.ylabel('Accuracy')\n",
        "plt.xlabel('Epoch')\n",
        "plt.legend(['Train', 'Test'], loc='upper left')\n",
        "plt.show()\n",
        "\n",
        "# Plot training & validation loss values\n",
        "plt.plot(history.history['loss'])\n",
        "plt.plot(history.history['val_loss'])\n",
        "plt.title('Model loss')\n",
        "plt.ylabel('Loss')\n",
        "plt.xlabel('Epoch')\n",
        "plt.legend(['Train', 'Test'], loc='upper left')\n",
        "plt.show()"
      ],
      "execution_count": 0,
      "outputs": [
        {
          "output_type": "display_data",
          "data": {
            "image/png": "[encoded data removed]",
            "text/plain": [
              "<Figure size 432x288 with 1 Axes>"
            ]
          },
          "metadata": {
            "tags": []
          }
        },
        {
          "output_type": "display_data",
          "data": {
            "image/png": "[encoded data removed]",
            "text/plain": [
              "<Figure size 432x288 with 1 Axes>"
            ]
          },
          "metadata": {
            "tags": []
          }
        }
      ]
    }
  ]
}